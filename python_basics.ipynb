{
 "cells": [
  {
   "cell_type": "markdown",
   "metadata": {
    "collapsed": true
   },
   "source": [
    "# PYTHON BASICS - source-nerd"
   ]
  },
  {
   "cell_type": "markdown",
   "metadata": {},
   "source": [
    "## 1. Topics Included:\n",
    "\ta. Comparision Operators\n",
    "\tb. Range\n",
    "\tc. For Loop\n",
    "\td. While Loop\n",
    "\te. If else condition"
   ]
  },
  {
   "cell_type": "markdown",
   "metadata": {},
   "source": [
    "<div class=\"alert alert-block alert-info\">\n",
    "<b>1.a. Comparision Operators</b>\n",
    "Comparision operators are used for comparing two values. The output is <b>True</b> or <b>False</b> .\n",
    "</div>"
   ]
  },
  {
   "cell_type": "markdown",
   "metadata": {},
   "source": [
    "### Different comparision operators are:<br>\n",
    "== Equal<br>\n",
    "!= Not Equal<br>\n",
    "\\> Greater than<br>\n",
    "\\< Less than<br>\n",
    "\\>= Greater than or equal to<br>\n",
    "\\<= Less than or equal to<br>"
   ]
  },
  {
   "cell_type": "markdown",
   "metadata": {},
   "source": [
    "<div class=\"alert alert-block alert-info\">\n",
    "<b>1.b. Range</b>\n",
    "A function that returns all integers between 2 arguments e.g range(x, y), including x but excluding y.\n",
    "</div>"
   ]
  },
  {
   "cell_type": "code",
   "execution_count": 1,
   "metadata": {},
   "outputs": [
    {
     "data": {
      "text/plain": [
       "[0, 1, 2, 3, 4, 5, 6, 7, 8, 9]"
      ]
     },
     "execution_count": 1,
     "metadata": {},
     "output_type": "execute_result"
    }
   ],
   "source": [
    "# A Sample range function\n",
    "my_list = list(range(0, 10))\n",
    "my_list"
   ]
  },
  {
   "cell_type": "code",
   "execution_count": 2,
   "metadata": {},
   "outputs": [
    {
     "data": {
      "text/plain": [
       "[0, 3, 6, 9]"
      ]
     },
     "execution_count": 2,
     "metadata": {},
     "output_type": "execute_result"
    }
   ],
   "source": [
    "# A step difference can also be added to the range function\n",
    "my_list = list(range(0, 10, 3))\n",
    "my_list"
   ]
  },
  {
   "cell_type": "markdown",
   "metadata": {},
   "source": [
    "<div class=\"alert alert-block alert-info\">\n",
    "<b>1.c. For Loop</b>\n",
    "For loop is used to repeat a block of code fixed number of times or break in between by some condition.\n",
    "</div>"
   ]
  },
  {
   "cell_type": "code",
   "execution_count": 5,
   "metadata": {},
   "outputs": [
    {
     "name": "stdout",
     "output_type": "stream",
     "text": [
      "0\n1\n8\n27\n64\n"
     ]
    }
   ],
   "source": [
    "# Basic For Loop\n",
    "for x in range(0, 5):\n",
    "    print(x ** 3)"
   ]
  },
  {
   "cell_type": "code",
   "execution_count": 10,
   "metadata": {},
   "outputs": [
    {
     "name": "stdout",
     "output_type": "stream",
     "text": [
      "Element position is -> 0 and value is -> 0\nElement position is -> 1 and value is -> 1\nElement position is -> 2 and value is -> 2\nElement position is -> 3 and value is -> 3\nElement position is -> 4 and value is -> 4\nElement position is -> 5 and value is -> 5\n"
     ]
    }
   ],
   "source": [
    "# For loop on list with their value and position\n",
    "my_list = [0, 1, 2, 3, 4, 5]\n",
    "for index, value in enumerate(my_list):\n",
    "    print(\"Element position is -> %d and value is -> %d\" % (index, value))"
   ]
  },
  {
   "cell_type": "code",
   "execution_count": 12,
   "metadata": {},
   "outputs": [
    {
     "data": {
      "text/plain": [
       "[2, 5, 8]"
      ]
     },
     "execution_count": 12,
     "metadata": {},
     "output_type": "execute_result"
    }
   ],
   "source": [
    "# For loop on matrix\n",
    "list_1 = [1, 2, 3]\n",
    "list_2 = [4, 5, 6]\n",
    "list_3 = [7, 8, 9]\n",
    "\n",
    "matrix = [list_1, list_2, list_3]\n",
    "\n",
    "second_col = [row[1] for row in matrix]\n",
    "second_col"
   ]
  },
  {
   "cell_type": "code",
   "execution_count": 14,
   "metadata": {},
   "outputs": [
    {
     "name": "stdout",
     "output_type": "stream",
     "text": [
      "Key is -> address and value is -> Downtown \nKey is -> age and value is -> 27 \nKey is -> name and value is -> Jack \n"
     ]
    }
   ],
   "source": [
    "# For loop on Dictionary\n",
    "my_dict = {'address': 'Downtown', 'age': 27, 'name': 'Jack'}\n",
    "for key in my_dict:\n",
    "    print(\"Key is -> %s and value is -> %s \" % (key, my_dict[key]))"
   ]
  },
  {
   "cell_type": "code",
   "execution_count": 15,
   "metadata": {},
   "outputs": [
    {
     "name": "stdout",
     "output_type": "stream",
     "text": [
      "Key is -> address and value is -> Downtown \nKey is -> age and value is -> 27 \nKey is -> name and value is -> Jack \n"
     ]
    }
   ],
   "source": [
    "# Another method to return all key values\n",
    "for key, value in my_dict.items():\n",
    "    print(\"Key is -> %s and value is -> %s \" % (key, value))"
   ]
  },
  {
   "cell_type": "code",
   "execution_count": 16,
   "metadata": {},
   "outputs": [
    {
     "name": "stdout",
     "output_type": "stream",
     "text": [
      "Downtown\n27\nJack\n"
     ]
    }
   ],
   "source": [
    "# To Get only Values\n",
    "for value in my_dict.values():\n",
    "    print(value)"
   ]
  },
  {
   "cell_type": "markdown",
   "metadata": {},
   "source": [
    "<div class=\"alert alert-block alert-info\">\n",
    "<b>1.d. While Loop</b>\n",
    "While loop is used to run a block of code multiple times until the condition is met.\n",
    "</div>"
   ]
  },
  {
   "cell_type": "code",
   "execution_count": 1,
   "metadata": {},
   "outputs": [
    {
     "name": "stdout",
     "output_type": "stream",
     "text": [
      "Counter is at -> 0\nCounter is at -> 1\nCounter is at -> 2\nCounter is at -> 3\nCounter is at -> 4\nCounter is at -> 5\nCounter is at -> 6\nCounter is at -> 7\nCounter is at -> 8\nCounter is at -> 9\n"
     ]
    }
   ],
   "source": [
    "# While loop sample\n",
    "counter = 0\n",
    "while counter < 10:\n",
    "    print(\"Counter is at -> %d\" % counter)\n",
    "    counter = counter+1"
   ]
  },
  {
   "cell_type": "markdown",
   "metadata": {},
   "source": [
    "<div class=\"alert alert-block alert-info\">\n",
    "<b>1.e. If Else Condition</b>\n",
    "Conditional statement : if code block is executed if the condition is met.\n",
    "Else is Optional and is executed in case 'if' fails.\n",
    "For multiple else use 'elif'\n",
    "</div>"
   ]
  },
  {
   "cell_type": "code",
   "execution_count": 2,
   "metadata": {},
   "outputs": [
    {
     "name": "stdout",
     "output_type": "stream",
     "text": [
      "Statement is False\n"
     ]
    }
   ],
   "source": [
    "# Sample if else example\n",
    "x = False\n",
    "if x:\n",
    "    print(\"Statement is True\")\n",
    "else:\n",
    "    print(\"Statement is False\")"
   ]
  }
 ],
 "metadata": {
  "kernelspec": {
   "display_name": "Python 2",
   "language": "python",
   "name": "python2"
  },
  "language_info": {
   "codemirror_mode": {
    "name": "ipython",
    "version": 2
   },
   "file_extension": ".py",
   "mimetype": "text/x-python",
   "name": "python",
   "nbconvert_exporter": "python",
   "pygments_lexer": "ipython2",
   "version": "2.7.6"
  }
 },
 "nbformat": 4,
 "nbformat_minor": 0
}
