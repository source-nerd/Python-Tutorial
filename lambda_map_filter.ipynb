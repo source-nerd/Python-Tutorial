{
 "cells": [
  {
   "cell_type": "markdown",
   "metadata": {
    "collapsed": true
   },
   "source": [
    "# LAMBDA, MAP, FILTER in PYTHON - source-nerd"
   ]
  },
  {
   "cell_type": "markdown",
   "metadata": {},
   "source": [
    "<div class=\"alert alert-block alert-info\">\n",
    "<b>1. Lambda Function</b><br>\n",
    "It is a small anonymous function which has only one expression and can take n arguments.\n",
    "</div>\n",
    "> lambda arguments: expression\t"
   ]
  },
  {
   "cell_type": "code",
   "execution_count": 3,
   "metadata": {},
   "outputs": [
    {
     "data": {
      "text/plain": [
       "8"
      ]
     },
     "execution_count": 3,
     "metadata": {},
     "output_type": "execute_result"
    }
   ],
   "source": [
    "# Typical Add Function in Python\n",
    "def add(x, y):\n",
    "    return x + y\n",
    "\n",
    "\n",
    "# Call the function\n",
    "add(3, 5)"
   ]
  },
  {
   "cell_type": "code",
   "execution_count": 5,
   "metadata": {},
   "outputs": [
    {
     "name": "stdout",
     "output_type": "stream",
     "text": [
      "5\n"
     ]
    }
   ],
   "source": [
    "# The above function converted to Lambda Function\n",
    "add_lambda = lambda x, y: x + y\n",
    "print(add_lambda(2, 3))\n"
   ]
  },
  {
   "cell_type": "markdown",
   "metadata": {},
   "source": [
    "<div class=\"alert alert-block alert-info\">\n",
    "<b>2. Map Function</b><br>\n",
    "It applies a function to all items of the input.\n",
    "</div>\n",
    "> map(function_to_apply, list_of_inputs)"
   ]
  },
  {
   "cell_type": "code",
   "execution_count": 7,
   "metadata": {},
   "outputs": [
    {
     "data": {
      "text/plain": [
       "[1, 4, 9, 16, 25]"
      ]
     },
     "execution_count": 7,
     "metadata": {},
     "output_type": "execute_result"
    }
   ],
   "source": [
    "# Typical function without map\n",
    "# In this example the square of items needs to be calculated and should be appended in a separate list\n",
    "items = [1, 2, 3, 4, 5]\n",
    "squared_items = []\n",
    "for x in items:\n",
    "    squared_items.append(x**2)\n",
    "\n",
    "squared_items"
   ]
  },
  {
   "cell_type": "code",
   "execution_count": 9,
   "metadata": {},
   "outputs": [
    {
     "data": {
      "text/plain": [
       "[1, 4, 9, 16, 25]"
      ]
     },
     "execution_count": 9,
     "metadata": {},
     "output_type": "execute_result"
    }
   ],
   "source": [
    "# The above function using map\n",
    "squared_using_map = list(map(lambda x: x**2, items))\n",
    "squared_using_map"
   ]
  },
  {
   "cell_type": "markdown",
   "metadata": {},
   "source": [
    "<div class=\"alert alert-block alert-info\">\n",
    "<b>3. Filter Function</b><br>\n",
    "Returns a list of elements for which the function returns True.\n",
    "</div>\n",
    "> filter(function_to_apply, list_of_inputs)"
   ]
  },
  {
   "cell_type": "code",
   "execution_count": 10,
   "metadata": {},
   "outputs": [
    {
     "data": {
      "text/plain": [
       "[2, 4]"
      ]
     },
     "execution_count": 10,
     "metadata": {},
     "output_type": "execute_result"
    }
   ],
   "source": [
    "# Typical function without filter\n",
    "# In this example, we only need the values from the list whose remainder is 0 when divided by 2\n",
    "filtered_items = []\n",
    "for item in items:\n",
    "    if item % 2 == 0:\n",
    "        filtered_items.append(item)\n",
    "        \n",
    "filtered_items"
   ]
  },
  {
   "cell_type": "code",
   "execution_count": 14,
   "metadata": {},
   "outputs": [
    {
     "data": {
      "text/plain": [
       "[2, 4]"
      ]
     },
     "execution_count": 14,
     "metadata": {},
     "output_type": "execute_result"
    }
   ],
   "source": [
    "# The above example using filter\n",
    "filtered_using_filter = list(filter(lambda x: x % 2 == 0, items))\n",
    "filtered_using_filter"
   ]
  }
 ],
 "metadata": {
  "kernelspec": {
   "display_name": "Python 2",
   "language": "python",
   "name": "python2"
  },
  "language_info": {
   "codemirror_mode": {
    "name": "ipython",
    "version": 2
   },
   "file_extension": ".py",
   "mimetype": "text/x-python",
   "name": "python",
   "nbconvert_exporter": "python",
   "pygments_lexer": "ipython2",
   "version": "2.7.6"
  }
 },
 "nbformat": 4,
 "nbformat_minor": 0
}
